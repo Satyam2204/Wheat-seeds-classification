{
 "cells": [
  {
   "cell_type": "code",
   "execution_count": 1,
   "metadata": {},
   "outputs": [],
   "source": [
    "import numpy as np\n",
    "import pandas as pd\n",
    "import matplotlib.pyplot as plt\n",
    "import seaborn as sns"
   ]
  },
  {
   "cell_type": "code",
   "execution_count": 2,
   "metadata": {},
   "outputs": [
    {
     "data": {
      "text/html": [
       "<div>\n",
       "<style scoped>\n",
       "    .dataframe tbody tr th:only-of-type {\n",
       "        vertical-align: middle;\n",
       "    }\n",
       "\n",
       "    .dataframe tbody tr th {\n",
       "        vertical-align: top;\n",
       "    }\n",
       "\n",
       "    .dataframe thead th {\n",
       "        text-align: right;\n",
       "    }\n",
       "</style>\n",
       "<table border=\"1\" class=\"dataframe\">\n",
       "  <thead>\n",
       "    <tr style=\"text-align: right;\">\n",
       "      <th></th>\n",
       "      <th>area</th>\n",
       "      <th>perimeter</th>\n",
       "      <th>compactness</th>\n",
       "      <th>length</th>\n",
       "      <th>width</th>\n",
       "      <th>asymmetry_coefficient</th>\n",
       "      <th>groove_length</th>\n",
       "      <th>grain_variety</th>\n",
       "    </tr>\n",
       "  </thead>\n",
       "  <tbody>\n",
       "    <tr>\n",
       "      <th>0</th>\n",
       "      <td>15.26</td>\n",
       "      <td>14.84</td>\n",
       "      <td>0.8710</td>\n",
       "      <td>5.763</td>\n",
       "      <td>3.312</td>\n",
       "      <td>2.221</td>\n",
       "      <td>5.220</td>\n",
       "      <td>Kama wheat</td>\n",
       "    </tr>\n",
       "    <tr>\n",
       "      <th>1</th>\n",
       "      <td>14.88</td>\n",
       "      <td>14.57</td>\n",
       "      <td>0.8811</td>\n",
       "      <td>5.554</td>\n",
       "      <td>3.333</td>\n",
       "      <td>1.018</td>\n",
       "      <td>4.956</td>\n",
       "      <td>Kama wheat</td>\n",
       "    </tr>\n",
       "    <tr>\n",
       "      <th>2</th>\n",
       "      <td>14.29</td>\n",
       "      <td>14.09</td>\n",
       "      <td>0.9050</td>\n",
       "      <td>5.291</td>\n",
       "      <td>3.337</td>\n",
       "      <td>2.699</td>\n",
       "      <td>4.825</td>\n",
       "      <td>Kama wheat</td>\n",
       "    </tr>\n",
       "    <tr>\n",
       "      <th>3</th>\n",
       "      <td>13.84</td>\n",
       "      <td>13.94</td>\n",
       "      <td>0.8955</td>\n",
       "      <td>5.324</td>\n",
       "      <td>3.379</td>\n",
       "      <td>2.259</td>\n",
       "      <td>4.805</td>\n",
       "      <td>Kama wheat</td>\n",
       "    </tr>\n",
       "    <tr>\n",
       "      <th>4</th>\n",
       "      <td>16.14</td>\n",
       "      <td>14.99</td>\n",
       "      <td>0.9034</td>\n",
       "      <td>5.658</td>\n",
       "      <td>3.562</td>\n",
       "      <td>1.355</td>\n",
       "      <td>5.175</td>\n",
       "      <td>Kama wheat</td>\n",
       "    </tr>\n",
       "  </tbody>\n",
       "</table>\n",
       "</div>"
      ],
      "text/plain": [
       "    area  perimeter  compactness  length  width  asymmetry_coefficient  \\\n",
       "0  15.26      14.84       0.8710   5.763  3.312                  2.221   \n",
       "1  14.88      14.57       0.8811   5.554  3.333                  1.018   \n",
       "2  14.29      14.09       0.9050   5.291  3.337                  2.699   \n",
       "3  13.84      13.94       0.8955   5.324  3.379                  2.259   \n",
       "4  16.14      14.99       0.9034   5.658  3.562                  1.355   \n",
       "\n",
       "   groove_length grain_variety  \n",
       "0          5.220    Kama wheat  \n",
       "1          4.956    Kama wheat  \n",
       "2          4.825    Kama wheat  \n",
       "3          4.805    Kama wheat  \n",
       "4          5.175    Kama wheat  "
      ]
     },
     "execution_count": 2,
     "metadata": {},
     "output_type": "execute_result"
    }
   ],
   "source": [
    "df = pd.read_csv(\"seed.csv\")\n",
    "df.head()"
   ]
  },
  {
   "cell_type": "markdown",
   "metadata": {},
   "source": [
    "#### Here the Target variable is Grain_Variety. We need to find the type of grain"
   ]
  },
  {
   "cell_type": "markdown",
   "metadata": {},
   "source": [
    "## Identification of Variables"
   ]
  },
  {
   "cell_type": "code",
   "execution_count": 3,
   "metadata": {},
   "outputs": [
    {
     "data": {
      "text/plain": [
       "Index(['area', 'perimeter', 'compactness', 'length', 'width',\n",
       "       'asymmetry_coefficient', 'groove_length', 'grain_variety'],\n",
       "      dtype='object')"
      ]
     },
     "execution_count": 3,
     "metadata": {},
     "output_type": "execute_result"
    }
   ],
   "source": [
    "df.columns"
   ]
  },
  {
   "cell_type": "code",
   "execution_count": 4,
   "metadata": {},
   "outputs": [
    {
     "data": {
      "text/plain": [
       "(210, 8)"
      ]
     },
     "execution_count": 4,
     "metadata": {},
     "output_type": "execute_result"
    }
   ],
   "source": [
    "df.shape"
   ]
  },
  {
   "cell_type": "code",
   "execution_count": 5,
   "metadata": {},
   "outputs": [
    {
     "data": {
      "text/plain": [
       "area                     float64\n",
       "perimeter                float64\n",
       "compactness              float64\n",
       "length                   float64\n",
       "width                    float64\n",
       "asymmetry_coefficient    float64\n",
       "groove_length            float64\n",
       "grain_variety             object\n",
       "dtype: object"
      ]
     },
     "execution_count": 5,
     "metadata": {},
     "output_type": "execute_result"
    }
   ],
   "source": [
    "df.dtypes"
   ]
  },
  {
   "cell_type": "code",
   "execution_count": 6,
   "metadata": {},
   "outputs": [
    {
     "data": {
      "text/plain": [
       "array(['Kama wheat', 'Rosa wheat', 'Canadian wheat'], dtype=object)"
      ]
     },
     "execution_count": 6,
     "metadata": {},
     "output_type": "execute_result"
    }
   ],
   "source": [
    "df['grain_variety'].unique()"
   ]
  },
  {
   "cell_type": "markdown",
   "metadata": {},
   "source": [
    "### Here we cannot find some parameters which can be judged to be removed by their name. \n",
    "##### Ex: Name of a Person in some scenario\n"
   ]
  },
  {
   "cell_type": "markdown",
   "metadata": {},
   "source": [
    "### Identifying Missing values"
   ]
  },
  {
   "cell_type": "code",
   "execution_count": 7,
   "metadata": {},
   "outputs": [
    {
     "data": {
      "text/plain": [
       "area                     0\n",
       "perimeter                0\n",
       "compactness              0\n",
       "length                   0\n",
       "width                    0\n",
       "asymmetry_coefficient    0\n",
       "groove_length            0\n",
       "grain_variety            0\n",
       "dtype: int64"
      ]
     },
     "execution_count": 7,
     "metadata": {},
     "output_type": "execute_result"
    }
   ],
   "source": [
    "df.isnull().sum()"
   ]
  },
  {
   "cell_type": "markdown",
   "metadata": {},
   "source": [
    "There are no missing values. So we need not think of replacing the missing values with another set of values."
   ]
  },
  {
   "cell_type": "markdown",
   "metadata": {},
   "source": [
    "### Univariate Analysis"
   ]
  },
  {
   "cell_type": "markdown",
   "metadata": {},
   "source": [
    "#### Here we find all the features to be continuous. Hence we use box plot to analyse the data to detect outliers"
   ]
  },
  {
   "cell_type": "code",
   "execution_count": 8,
   "metadata": {},
   "outputs": [
    {
     "data": {
      "text/plain": [
       "<AxesSubplot:>"
      ]
     },
     "execution_count": 8,
     "metadata": {},
     "output_type": "execute_result"
    },
    {
     "data": {
      "image/png": "[encoded data removed]",
      "text/plain": [
       "<Figure size 432x288 with 1 Axes>"
      ]
     },
     "metadata": {
      "needs_background": "light"
     },
     "output_type": "display_data"
    }
   ],
   "source": [
    "df[\"area\"].plot(kind='box')"
   ]
  },
  {
   "cell_type": "code",
   "execution_count": 9,
   "metadata": {},
   "outputs": [
    {
     "data": {
      "text/plain": [
       "<AxesSubplot:>"
      ]
     },
     "execution_count": 9,
     "metadata": {},
     "output_type": "execute_result"
    },
    {
     "data": {
      "image/png": "[encoded data removed]",
      "text/plain": [
       "<Figure size 432x288 with 1 Axes>"
      ]
     },
     "metadata": {
      "needs_background": "light"
     },
     "output_type": "display_data"
    }
   ],
   "source": [
    "df[\"perimeter\"].plot(kind='box')"
   ]
  },
  {
   "cell_type": "code",
   "execution_count": 10,
   "metadata": {},
   "outputs": [
    {
     "data": {
      "text/plain": [
       "<AxesSubplot:>"
      ]
     },
     "execution_count": 10,
     "metadata": {},
     "output_type": "execute_result"
    },
    {
     "data": {
      "image/png": "[encoded data removed]",
      "text/plain": [
       "<Figure size 432x288 with 1 Axes>"
      ]
     },
     "metadata": {
      "needs_background": "light"
     },
     "output_type": "display_data"
    }
   ],
   "source": [
    "df[\"compactness\"].plot(kind='box')"
   ]
  },
  {
   "cell_type": "code",
   "execution_count": 11,
   "metadata": {},
   "outputs": [
    {
     "data": {
      "text/plain": [
       "<AxesSubplot:>"
      ]
     },
     "execution_count": 11,
     "metadata": {},
     "output_type": "execute_result"
    },
    {
     "data": {
      "image/png": "[encoded data removed]",
      "text/plain": [
       "<Figure size 432x288 with 1 Axes>"
      ]
     },
     "metadata": {
      "needs_background": "light"
     },
     "output_type": "display_data"
    }
   ],
   "source": [
    "df[\"length\"].plot(kind='box')"
   ]
  },
  {
   "cell_type": "code",
   "execution_count": 12,
   "metadata": {},
   "outputs": [
    {
     "data": {
      "text/plain": [
       "<AxesSubplot:>"
      ]
     },
     "execution_count": 12,
     "metadata": {},
     "output_type": "execute_result"
    },
    {
     "data": {
      "image/png": "[encoded data removed]",
      "text/plain": [
       "<Figure size 432x288 with 1 Axes>"
      ]
     },
     "metadata": {
      "needs_background": "light"
     },
     "output_type": "display_data"
    }
   ],
   "source": [
    "df[\"width\"].plot(kind='box')"
   ]
  },
  {
   "cell_type": "code",
   "execution_count": 13,
   "metadata": {},
   "outputs": [
    {
     "data": {
      "text/plain": [
       "<AxesSubplot:>"
      ]
     },
     "execution_count": 13,
     "metadata": {},
     "output_type": "execute_result"
    },
    {
     "data": {
      "image/png": "[encoded data removed]",
      "text/plain": [
       "<Figure size 432x288 with 1 Axes>"
      ]
     },
     "metadata": {
      "needs_background": "light"
     },
     "output_type": "display_data"
    }
   ],
   "source": [
    "df[\"asymmetry_coefficient\"].plot(kind='box')"
   ]
  },
  {
   "cell_type": "code",
   "execution_count": 14,
   "metadata": {},
   "outputs": [
    {
     "data": {
      "text/plain": [
       "<AxesSubplot:>"
      ]
     },
     "execution_count": 14,
     "metadata": {},
     "output_type": "execute_result"
    },
    {
     "data": {
      "image/png": "[encoded data removed]",
      "text/plain": [
       "<Figure size 432x288 with 1 Axes>"
      ]
     },
     "metadata": {
      "needs_background": "light"
     },
     "output_type": "display_data"
    }
   ],
   "source": [
    "df[\"groove_length\"].plot(kind='box')"
   ]
  },
  {
   "cell_type": "markdown",
   "metadata": {},
   "source": [
    "#### From the above analysis we find the features 'compactness' and 'asymmetry_coefficient' had outliers in it"
   ]
  },
  {
   "cell_type": "markdown",
   "metadata": {},
   "source": [
    "### Bivariate Analysis"
   ]
  },
  {
   "cell_type": "code",
   "execution_count": 12,
   "metadata": {},
   "outputs": [
    {
     "data": {
      "text/plain": [
       "<AxesSubplot:xlabel='grain_variety', ylabel='length'>"
      ]
     },
     "execution_count": 12,
     "metadata": {},
     "output_type": "execute_result"
    },
    {
     "data": {
      "image/png": "[encoded data removed]",
      "text/plain": [
       "<Figure size 432x288 with 1 Axes>"
      ]
     },
     "metadata": {
      "needs_background": "light"
     },
     "output_type": "display_data"
    }
   ],
   "source": [
    "sns.boxplot(x='grain_variety',y='length',data=df)"
   ]
  },
  {
   "cell_type": "code",
   "execution_count": 13,
   "metadata": {},
   "outputs": [
    {
     "data": {
      "text/plain": [
       "<AxesSubplot:xlabel='grain_variety', ylabel='width'>"
      ]
     },
     "execution_count": 13,
     "metadata": {},
     "output_type": "execute_result"
    },
    {
     "data": {
      "image/png": "[encoded data removed]",
      "text/plain": [
       "<Figure size 432x288 with 1 Axes>"
      ]
     },
     "metadata": {
      "needs_background": "light"
     },
     "output_type": "display_data"
    }
   ],
   "source": [
    "sns.boxplot(x='grain_variety',y='width',data=df)"
   ]
  },
  {
   "cell_type": "code",
   "execution_count": 14,
   "metadata": {},
   "outputs": [
    {
     "data": {
      "text/plain": [
       "<AxesSubplot:xlabel='grain_variety', ylabel='compactness'>"
      ]
     },
     "execution_count": 14,
     "metadata": {},
     "output_type": "execute_result"
    },
    {
     "data": {
      "image/png": "[encoded data removed]",
      "text/plain": [
       "<Figure size 432x288 with 1 Axes>"
      ]
     },
     "metadata": {
      "needs_background": "light"
     },
     "output_type": "display_data"
    }
   ],
   "source": [
    "sns.boxplot(x='grain_variety',y='compactness',data=df)"
   ]
  },
  {
   "cell_type": "code",
   "execution_count": 15,
   "metadata": {},
   "outputs": [
    {
     "data": {
      "text/plain": [
       "<AxesSubplot:xlabel='grain_variety', ylabel='asymmetry_coefficient'>"
      ]
     },
     "execution_count": 15,
     "metadata": {},
     "output_type": "execute_result"
    },
    {
     "data": {
      "image/png": "[encoded data removed]",
      "text/plain": [
       "<Figure size 432x288 with 1 Axes>"
      ]
     },
     "metadata": {
      "needs_background": "light"
     },
     "output_type": "display_data"
    }
   ],
   "source": [
    "sns.boxplot(x='grain_variety',y='asymmetry_coefficient',data=df)"
   ]
  },
  {
   "cell_type": "code",
   "execution_count": 16,
   "metadata": {},
   "outputs": [
    {
     "data": {
      "text/plain": [
       "<AxesSubplot:xlabel='grain_variety', ylabel='area'>"
      ]
     },
     "execution_count": 16,
     "metadata": {},
     "output_type": "execute_result"
    },
    {
     "data": {
      "image/png": "[encoded data removed]",
      "text/plain": [
       "<Figure size 432x288 with 1 Axes>"
      ]
     },
     "metadata": {
      "needs_background": "light"
     },
     "output_type": "display_data"
    }
   ],
   "source": [
    "sns.boxplot(x='grain_variety',y='area',data=df)"
   ]
  },
  {
   "cell_type": "code",
   "execution_count": 17,
   "metadata": {},
   "outputs": [
    {
     "data": {
      "text/plain": [
       "<AxesSubplot:xlabel='grain_variety', ylabel='perimeter'>"
      ]
     },
     "execution_count": 17,
     "metadata": {},
     "output_type": "execute_result"
    },
    {
     "data": {
      "image/png": "[encoded data removed]",
      "text/plain": [
       "<Figure size 432x288 with 1 Axes>"
      ]
     },
     "metadata": {
      "needs_background": "light"
     },
     "output_type": "display_data"
    }
   ],
   "source": [
    "sns.boxplot(x='grain_variety',y='perimeter',data=df)"
   ]
  },
  {
   "cell_type": "code",
   "execution_count": 18,
   "metadata": {},
   "outputs": [
    {
     "data": {
      "text/plain": [
       "<AxesSubplot:xlabel='grain_variety', ylabel='groove_length'>"
      ]
     },
     "execution_count": 18,
     "metadata": {},
     "output_type": "execute_result"
    },
    {
     "data": {
      "image/png": "[encoded data removed]",
      "text/plain": [
       "<Figure size 432x288 with 1 Axes>"
      ]
     },
     "metadata": {
      "needs_background": "light"
     },
     "output_type": "display_data"
    }
   ],
   "source": [
    "sns.boxplot(x='grain_variety',y='groove_length',data=df)"
   ]
  },
  {
   "cell_type": "markdown",
   "metadata": {},
   "source": [
    "## Getting rid of Outliers"
   ]
  },
  {
   "cell_type": "code",
   "execution_count": 8,
   "metadata": {},
   "outputs": [
    {
     "data": {
      "text/plain": [
       "(8.079625, -0.7493749999999992)"
      ]
     },
     "execution_count": 8,
     "metadata": {},
     "output_type": "execute_result"
    }
   ],
   "source": [
    "IQR_ac = df['asymmetry_coefficient'].quantile(0.75)-df['asymmetry_coefficient'].quantile(0.25)\n",
    "UpperLimit=df['asymmetry_coefficient'].quantile(0.75)+1.5*IQR_ac\n",
    "LowerLimit=df['asymmetry_coefficient'].quantile(0.25)-1.5*IQR_ac\n",
    "UpperLimit,LowerLimit"
   ]
  },
  {
   "cell_type": "code",
   "execution_count": 12,
   "metadata": {},
   "outputs": [],
   "source": [
    "outliers_1 = df[(df['asymmetry_coefficient']>=UpperLimit)|(df['asymmetry_coefficient']<=LowerLimit)]"
   ]
  },
  {
   "cell_type": "code",
   "execution_count": 13,
   "metadata": {},
   "outputs": [
    {
     "data": {
      "text/html": [
       "<div>\n",
       "<style scoped>\n",
       "    .dataframe tbody tr th:only-of-type {\n",
       "        vertical-align: middle;\n",
       "    }\n",
       "\n",
       "    .dataframe tbody tr th {\n",
       "        vertical-align: top;\n",
       "    }\n",
       "\n",
       "    .dataframe thead th {\n",
       "        text-align: right;\n",
       "    }\n",
       "</style>\n",
       "<table border=\"1\" class=\"dataframe\">\n",
       "  <thead>\n",
       "    <tr style=\"text-align: right;\">\n",
       "      <th></th>\n",
       "      <th>area</th>\n",
       "      <th>perimeter</th>\n",
       "      <th>compactness</th>\n",
       "      <th>length</th>\n",
       "      <th>width</th>\n",
       "      <th>asymmetry_coefficient</th>\n",
       "      <th>groove_length</th>\n",
       "      <th>grain_variety</th>\n",
       "    </tr>\n",
       "  </thead>\n",
       "  <tbody>\n",
       "    <tr>\n",
       "      <th>203</th>\n",
       "      <td>12.7</td>\n",
       "      <td>13.41</td>\n",
       "      <td>0.8874</td>\n",
       "      <td>5.183</td>\n",
       "      <td>3.091</td>\n",
       "      <td>8.456</td>\n",
       "      <td>5.000</td>\n",
       "      <td>Canadian wheat</td>\n",
       "    </tr>\n",
       "    <tr>\n",
       "      <th>207</th>\n",
       "      <td>13.2</td>\n",
       "      <td>13.66</td>\n",
       "      <td>0.8883</td>\n",
       "      <td>5.236</td>\n",
       "      <td>3.232</td>\n",
       "      <td>8.315</td>\n",
       "      <td>5.056</td>\n",
       "      <td>Canadian wheat</td>\n",
       "    </tr>\n",
       "  </tbody>\n",
       "</table>\n",
       "</div>"
      ],
      "text/plain": [
       "     area  perimeter  compactness  length  width  asymmetry_coefficient  \\\n",
       "203  12.7      13.41       0.8874   5.183  3.091                  8.456   \n",
       "207  13.2      13.66       0.8883   5.236  3.232                  8.315   \n",
       "\n",
       "     groove_length   grain_variety  \n",
       "203          5.000  Canadian wheat  \n",
       "207          5.056  Canadian wheat  "
      ]
     },
     "execution_count": 13,
     "metadata": {},
     "output_type": "execute_result"
    }
   ],
   "source": [
    "outliers_1"
   ]
  },
  {
   "cell_type": "code",
   "execution_count": 22,
   "metadata": {},
   "outputs": [
    {
     "name": "stdout",
     "output_type": "stream",
     "text": [
      "[203, 207]\n"
     ]
    }
   ],
   "source": [
    "index_1=list(outliers_1.index)\n",
    "print(index_1)"
   ]
  },
  {
   "cell_type": "code",
   "execution_count": 23,
   "metadata": {},
   "outputs": [
    {
     "name": "stderr",
     "output_type": "stream",
     "text": [
      "C:\\Users\\hp\\AppData\\Local\\Temp/ipykernel_19520/3811498832.py:2: SettingWithCopyWarning: \n",
      "A value is trying to be set on a copy of a slice from a DataFrame\n",
      "\n",
      "See the caveats in the documentation: https://pandas.pydata.org/pandas-docs/stable/user_guide/indexing.html#returning-a-view-versus-a-copy\n",
      "  df['asymmetry_coefficient'][ind]=df['asymmetry_coefficient'].quantile(0.75)\n"
     ]
    }
   ],
   "source": [
    "for ind in index_1:\n",
    "    df['asymmetry_coefficient'][ind]=df['asymmetry_coefficient'].quantile(0.75)"
   ]
  },
  {
   "cell_type": "code",
   "execution_count": 24,
   "metadata": {},
   "outputs": [
    {
     "data": {
      "text/plain": [
       "<AxesSubplot:>"
      ]
     },
     "execution_count": 24,
     "metadata": {},
     "output_type": "execute_result"
    },
    {
     "data": {
      "image/png": "[encoded data removed]",
      "text/plain": [
       "<Figure size 432x288 with 1 Axes>"
      ]
     },
     "metadata": {
      "needs_background": "light"
     },
     "output_type": "display_data"
    }
   ],
   "source": [
    "df[\"asymmetry_coefficient\"].plot(kind='box')"
   ]
  },
  {
   "cell_type": "code",
   "execution_count": 25,
   "metadata": {},
   "outputs": [
    {
     "data": {
      "text/plain": [
       "(0.9340875, -0.7493749999999992)"
      ]
     },
     "execution_count": 25,
     "metadata": {},
     "output_type": "execute_result"
    }
   ],
   "source": [
    "IQR_co = df['compactness'].quantile(0.75)-df['compactness'].quantile(0.25)\n",
    "ULimit=df['compactness'].quantile(0.75)+1.5*IQR_co\n",
    "LLimit=df['compactness'].quantile(0.25)-1.5*IQR_co\n",
    "ULimit,LowerLimit"
   ]
  },
  {
   "cell_type": "code",
   "execution_count": 26,
   "metadata": {},
   "outputs": [],
   "source": [
    "outliers_2 = df[(df['compactness']>=ULimit)|(df['compactness']<=LLimit)]"
   ]
  },
  {
   "cell_type": "code",
   "execution_count": 27,
   "metadata": {},
   "outputs": [
    {
     "data": {
      "text/html": [
       "<div>\n",
       "<style scoped>\n",
       "    .dataframe tbody tr th:only-of-type {\n",
       "        vertical-align: middle;\n",
       "    }\n",
       "\n",
       "    .dataframe tbody tr th {\n",
       "        vertical-align: top;\n",
       "    }\n",
       "\n",
       "    .dataframe thead th {\n",
       "        text-align: right;\n",
       "    }\n",
       "</style>\n",
       "<table border=\"1\" class=\"dataframe\">\n",
       "  <thead>\n",
       "    <tr style=\"text-align: right;\">\n",
       "      <th></th>\n",
       "      <th>area</th>\n",
       "      <th>perimeter</th>\n",
       "      <th>compactness</th>\n",
       "      <th>length</th>\n",
       "      <th>width</th>\n",
       "      <th>asymmetry_coefficient</th>\n",
       "      <th>groove_length</th>\n",
       "      <th>grain_variety</th>\n",
       "    </tr>\n",
       "  </thead>\n",
       "  <tbody>\n",
       "    <tr>\n",
       "      <th>157</th>\n",
       "      <td>12.13</td>\n",
       "      <td>13.73</td>\n",
       "      <td>0.8081</td>\n",
       "      <td>5.394</td>\n",
       "      <td>2.745</td>\n",
       "      <td>4.825</td>\n",
       "      <td>5.220</td>\n",
       "      <td>Canadian wheat</td>\n",
       "    </tr>\n",
       "    <tr>\n",
       "      <th>158</th>\n",
       "      <td>11.75</td>\n",
       "      <td>13.52</td>\n",
       "      <td>0.8082</td>\n",
       "      <td>5.444</td>\n",
       "      <td>2.678</td>\n",
       "      <td>4.378</td>\n",
       "      <td>5.310</td>\n",
       "      <td>Canadian wheat</td>\n",
       "    </tr>\n",
       "    <tr>\n",
       "      <th>174</th>\n",
       "      <td>10.83</td>\n",
       "      <td>12.96</td>\n",
       "      <td>0.8099</td>\n",
       "      <td>5.278</td>\n",
       "      <td>2.641</td>\n",
       "      <td>5.182</td>\n",
       "      <td>5.185</td>\n",
       "      <td>Canadian wheat</td>\n",
       "    </tr>\n",
       "  </tbody>\n",
       "</table>\n",
       "</div>"
      ],
      "text/plain": [
       "      area  perimeter  compactness  length  width  asymmetry_coefficient  \\\n",
       "157  12.13      13.73       0.8081   5.394  2.745                  4.825   \n",
       "158  11.75      13.52       0.8082   5.444  2.678                  4.378   \n",
       "174  10.83      12.96       0.8099   5.278  2.641                  5.182   \n",
       "\n",
       "     groove_length   grain_variety  \n",
       "157          5.220  Canadian wheat  \n",
       "158          5.310  Canadian wheat  \n",
       "174          5.185  Canadian wheat  "
      ]
     },
     "execution_count": 27,
     "metadata": {},
     "output_type": "execute_result"
    }
   ],
   "source": [
    "outliers_2"
   ]
  },
  {
   "cell_type": "code",
   "execution_count": 31,
   "metadata": {},
   "outputs": [
    {
     "name": "stdout",
     "output_type": "stream",
     "text": [
      "[157, 158, 174]\n"
     ]
    }
   ],
   "source": [
    "index_2=list(outliers_2.index)\n",
    "print(index_2)"
   ]
  },
  {
   "cell_type": "code",
   "execution_count": 32,
   "metadata": {},
   "outputs": [
    {
     "name": "stderr",
     "output_type": "stream",
     "text": [
      "C:\\Users\\hp\\AppData\\Local\\Temp/ipykernel_6632/3702232779.py:2: SettingWithCopyWarning: \n",
      "A value is trying to be set on a copy of a slice from a DataFrame\n",
      "\n",
      "See the caveats in the documentation: https://pandas.pydata.org/pandas-docs/stable/user_guide/indexing.html#returning-a-view-versus-a-copy\n",
      "  df['compactness'][ind_]=df['compactness'].quantile(0.25)\n"
     ]
    }
   ],
   "source": [
    "for ind_ in index_2:\n",
    "    df['compactness'][ind_]=df['compactness'].quantile(0.25)"
   ]
  },
  {
   "cell_type": "code",
   "execution_count": 33,
   "metadata": {},
   "outputs": [
    {
     "data": {
      "text/plain": [
       "<AxesSubplot:>"
      ]
     },
     "execution_count": 33,
     "metadata": {},
     "output_type": "execute_result"
    },
    {
     "data": {
      "image/png": "[encoded data removed]",
      "text/plain": [
       "<Figure size 432x288 with 1 Axes>"
      ]
     },
     "metadata": {
      "needs_background": "light"
     },
     "output_type": "display_data"
    }
   ],
   "source": [
    "df['compactness'].plot(kind='box')"
   ]
  },
  {
   "cell_type": "markdown",
   "metadata": {},
   "source": [
    "### Creating NumPy Matrices of Features and Target  variable"
   ]
  },
  {
   "cell_type": "code",
   "execution_count": 3,
   "metadata": {},
   "outputs": [],
   "source": [
    "X = df.iloc[:,:-1].values"
   ]
  },
  {
   "cell_type": "code",
   "execution_count": 4,
   "metadata": {},
   "outputs": [],
   "source": [
    "Y = df.iloc[:,-1].values"
   ]
  },
  {
   "cell_type": "code",
   "execution_count": 5,
   "metadata": {},
   "outputs": [
    {
     "data": {
      "text/plain": [
       "array([[15.26  , 14.84  ,  0.871 , ...,  3.312 ,  2.221 ,  5.22  ],\n",
       "       [14.88  , 14.57  ,  0.8811, ...,  3.333 ,  1.018 ,  4.956 ],\n",
       "       [14.29  , 14.09  ,  0.905 , ...,  3.337 ,  2.699 ,  4.825 ],\n",
       "       ...,\n",
       "       [13.2   , 13.66  ,  0.8883, ...,  3.232 ,  8.315 ,  5.056 ],\n",
       "       [11.84  , 13.21  ,  0.8521, ...,  2.836 ,  3.598 ,  5.044 ],\n",
       "       [12.3   , 13.34  ,  0.8684, ...,  2.974 ,  5.637 ,  5.063 ]])"
      ]
     },
     "execution_count": 5,
     "metadata": {},
     "output_type": "execute_result"
    }
   ],
   "source": [
    "X"
   ]
  },
  {
   "cell_type": "code",
   "execution_count": 6,
   "metadata": {},
   "outputs": [
    {
     "data": {
      "text/plain": [
       "array(['Kama wheat', 'Kama wheat', 'Kama wheat', 'Kama wheat',\n",
       "       'Kama wheat', 'Kama wheat', 'Kama wheat', 'Kama wheat',\n",
       "       'Kama wheat', 'Kama wheat', 'Kama wheat', 'Kama wheat',\n",
       "       'Kama wheat', 'Kama wheat', 'Kama wheat', 'Kama wheat',\n",
       "       'Kama wheat', 'Kama wheat', 'Kama wheat', 'Kama wheat',\n",
       "       'Kama wheat', 'Kama wheat', 'Kama wheat', 'Kama wheat',\n",
       "       'Kama wheat', 'Kama wheat', 'Kama wheat', 'Kama wheat',\n",
       "       'Kama wheat', 'Kama wheat', 'Kama wheat', 'Kama wheat',\n",
       "       'Kama wheat', 'Kama wheat', 'Kama wheat', 'Kama wheat',\n",
       "       'Kama wheat', 'Kama wheat', 'Kama wheat', 'Kama wheat',\n",
       "       'Kama wheat', 'Kama wheat', 'Kama wheat', 'Kama wheat',\n",
       "       'Kama wheat', 'Kama wheat', 'Kama wheat', 'Kama wheat',\n",
       "       'Kama wheat', 'Kama wheat', 'Kama wheat', 'Kama wheat',\n",
       "       'Kama wheat', 'Kama wheat', 'Kama wheat', 'Kama wheat',\n",
       "       'Kama wheat', 'Kama wheat', 'Kama wheat', 'Kama wheat',\n",
       "       'Kama wheat', 'Kama wheat', 'Kama wheat', 'Kama wheat',\n",
       "       'Kama wheat', 'Kama wheat', 'Kama wheat', 'Kama wheat',\n",
       "       'Kama wheat', 'Kama wheat', 'Rosa wheat', 'Rosa wheat',\n",
       "       'Rosa wheat', 'Rosa wheat', 'Rosa wheat', 'Rosa wheat',\n",
       "       'Rosa wheat', 'Rosa wheat', 'Rosa wheat', 'Rosa wheat',\n",
       "       'Rosa wheat', 'Rosa wheat', 'Rosa wheat', 'Rosa wheat',\n",
       "       'Rosa wheat', 'Rosa wheat', 'Rosa wheat', 'Rosa wheat',\n",
       "       'Rosa wheat', 'Rosa wheat', 'Rosa wheat', 'Rosa wheat',\n",
       "       'Rosa wheat', 'Rosa wheat', 'Rosa wheat', 'Rosa wheat',\n",
       "       'Rosa wheat', 'Rosa wheat', 'Rosa wheat', 'Rosa wheat',\n",
       "       'Rosa wheat', 'Rosa wheat', 'Rosa wheat', 'Rosa wheat',\n",
       "       'Rosa wheat', 'Rosa wheat', 'Rosa wheat', 'Rosa wheat',\n",
       "       'Rosa wheat', 'Rosa wheat', 'Rosa wheat', 'Rosa wheat',\n",
       "       'Rosa wheat', 'Rosa wheat', 'Rosa wheat', 'Rosa wheat',\n",
       "       'Rosa wheat', 'Rosa wheat', 'Rosa wheat', 'Rosa wheat',\n",
       "       'Rosa wheat', 'Rosa wheat', 'Rosa wheat', 'Rosa wheat',\n",
       "       'Rosa wheat', 'Rosa wheat', 'Rosa wheat', 'Rosa wheat',\n",
       "       'Rosa wheat', 'Rosa wheat', 'Rosa wheat', 'Rosa wheat',\n",
       "       'Rosa wheat', 'Rosa wheat', 'Rosa wheat', 'Rosa wheat',\n",
       "       'Rosa wheat', 'Rosa wheat', 'Rosa wheat', 'Rosa wheat',\n",
       "       'Canadian wheat', 'Canadian wheat', 'Canadian wheat',\n",
       "       'Canadian wheat', 'Canadian wheat', 'Canadian wheat',\n",
       "       'Canadian wheat', 'Canadian wheat', 'Canadian wheat',\n",
       "       'Canadian wheat', 'Canadian wheat', 'Canadian wheat',\n",
       "       'Canadian wheat', 'Canadian wheat', 'Canadian wheat',\n",
       "       'Canadian wheat', 'Canadian wheat', 'Canadian wheat',\n",
       "       'Canadian wheat', 'Canadian wheat', 'Canadian wheat',\n",
       "       'Canadian wheat', 'Canadian wheat', 'Canadian wheat',\n",
       "       'Canadian wheat', 'Canadian wheat', 'Canadian wheat',\n",
       "       'Canadian wheat', 'Canadian wheat', 'Canadian wheat',\n",
       "       'Canadian wheat', 'Canadian wheat', 'Canadian wheat',\n",
       "       'Canadian wheat', 'Canadian wheat', 'Canadian wheat',\n",
       "       'Canadian wheat', 'Canadian wheat', 'Canadian wheat',\n",
       "       'Canadian wheat', 'Canadian wheat', 'Canadian wheat',\n",
       "       'Canadian wheat', 'Canadian wheat', 'Canadian wheat',\n",
       "       'Canadian wheat', 'Canadian wheat', 'Canadian wheat',\n",
       "       'Canadian wheat', 'Canadian wheat', 'Canadian wheat',\n",
       "       'Canadian wheat', 'Canadian wheat', 'Canadian wheat',\n",
       "       'Canadian wheat', 'Canadian wheat', 'Canadian wheat',\n",
       "       'Canadian wheat', 'Canadian wheat', 'Canadian wheat',\n",
       "       'Canadian wheat', 'Canadian wheat', 'Canadian wheat',\n",
       "       'Canadian wheat', 'Canadian wheat', 'Canadian wheat',\n",
       "       'Canadian wheat', 'Canadian wheat', 'Canadian wheat',\n",
       "       'Canadian wheat'], dtype=object)"
      ]
     },
     "execution_count": 6,
     "metadata": {},
     "output_type": "execute_result"
    }
   ],
   "source": [
    "Y"
   ]
  },
  {
   "cell_type": "markdown",
   "metadata": {},
   "source": [
    "## Splitting Dataset into train and test sets"
   ]
  },
  {
   "cell_type": "code",
   "execution_count": 7,
   "metadata": {},
   "outputs": [],
   "source": [
    "from sklearn.model_selection import train_test_split"
   ]
  },
  {
   "cell_type": "code",
   "execution_count": 8,
   "metadata": {},
   "outputs": [],
   "source": [
    "X_train, X_test, Y_train, Y_test = train_test_split(X,Y,test_size=0.25,random_state=40)"
   ]
  },
  {
   "cell_type": "code",
   "execution_count": 9,
   "metadata": {},
   "outputs": [
    {
     "data": {
      "text/plain": [
       "(157, 7)"
      ]
     },
     "execution_count": 9,
     "metadata": {},
     "output_type": "execute_result"
    }
   ],
   "source": [
    "X_train.shape"
   ]
  },
  {
   "cell_type": "code",
   "execution_count": 10,
   "metadata": {},
   "outputs": [
    {
     "data": {
      "text/plain": [
       "(157,)"
      ]
     },
     "execution_count": 10,
     "metadata": {},
     "output_type": "execute_result"
    }
   ],
   "source": [
    "Y_train.shape"
   ]
  },
  {
   "cell_type": "code",
   "execution_count": 11,
   "metadata": {},
   "outputs": [
    {
     "data": {
      "text/plain": [
       "(53, 7)"
      ]
     },
     "execution_count": 11,
     "metadata": {},
     "output_type": "execute_result"
    }
   ],
   "source": [
    "X_test.shape"
   ]
  },
  {
   "cell_type": "code",
   "execution_count": 12,
   "metadata": {},
   "outputs": [
    {
     "data": {
      "text/plain": [
       "(53,)"
      ]
     },
     "execution_count": 12,
     "metadata": {},
     "output_type": "execute_result"
    }
   ],
   "source": [
    "Y_test.shape"
   ]
  },
  {
   "cell_type": "code",
   "execution_count": 13,
   "metadata": {},
   "outputs": [],
   "source": [
    "Y_train = Y_train.reshape(-1,1)\n",
    "Y_test = Y_test.reshape(-1,1)"
   ]
  },
  {
   "cell_type": "markdown",
   "metadata": {},
   "source": [
    "## Standard Scaling"
   ]
  },
  {
   "cell_type": "code",
   "execution_count": 14,
   "metadata": {},
   "outputs": [],
   "source": [
    "from sklearn.preprocessing import StandardScaler"
   ]
  },
  {
   "cell_type": "code",
   "execution_count": 16,
   "metadata": {},
   "outputs": [],
   "source": [
    "sc = StandardScaler()"
   ]
  },
  {
   "cell_type": "code",
   "execution_count": 17,
   "metadata": {},
   "outputs": [],
   "source": [
    "X_train = sc.fit_transform(X_train)\n",
    "X_test = sc.transform(X_test)"
   ]
  },
  {
   "cell_type": "code",
   "execution_count": 18,
   "metadata": {},
   "outputs": [
    {
     "data": {
      "text/plain": [
       "array([[-0.97467242, -0.8907399 , -1.22914697, ..., -1.18186487,\n",
       "        -0.05116232, -0.17130038],\n",
       "       [-1.29941334, -1.38142819, -0.54069573, ..., -1.2260994 ,\n",
       "         2.55998989, -0.9475048 ],\n",
       "       [-1.29941334, -1.33469597, -0.91911595, ..., -1.29798051,\n",
       "         0.41045928, -0.85378983],\n",
       "       ...,\n",
       "       [-0.99232138, -1.12440099,  0.36660094, ..., -0.89434044,\n",
       "        -1.01673765, -0.74581389],\n",
       "       [-0.28283306, -0.3844742 ,  0.90459595, ...,  0.10370109,\n",
       "        -0.68144044, -0.85990168],\n",
       "       [ 0.95965394,  1.07980198, -0.18051263, ...,  0.8197475 ,\n",
       "         0.24314665,  1.2996172 ]])"
      ]
     },
     "execution_count": 18,
     "metadata": {},
     "output_type": "execute_result"
    }
   ],
   "source": [
    "X_train"
   ]
  },
  {
   "cell_type": "code",
   "execution_count": 19,
   "metadata": {},
   "outputs": [
    {
     "data": {
      "text/plain": [
       "array([[ 0.24310604,  0.40218481, -0.60452564,  0.41493039,  0.05946656,\n",
       "        -0.66464199,  0.67213435],\n",
       "       [-0.94996387, -0.99199304, -0.2762575 , -0.95268796, -0.82245933,\n",
       "         1.17915669, -0.40966237],\n",
       "       [ 0.42665525,  0.31650908,  1.31037184,  0.1382576 ,  0.6096335 ,\n",
       "        -0.97037391,  0.04261423],\n",
       "       [-0.87230843, -0.78169805, -1.14252065, -0.73899759, -1.01598539,\n",
       "         0.81295032, -0.30983555],\n",
       "       [-1.45472422, -1.29575246, -2.76106496, -0.74349634, -1.70438523,\n",
       "         1.17445312, -0.46466898],\n",
       "       [-0.85465947, -0.88295119, -0.24890183, -0.85596495, -0.82245933,\n",
       "         0.47496536, -0.85582711],\n",
       "       [ 1.50677179,  1.58606768,  0.02009568,  1.6228433 ,  1.15150646,\n",
       "        -0.23997698,  1.64391785],\n",
       "       [-0.18752866, -0.29879846,  1.08696714, -0.58828965,  0.13134767,\n",
       "        -0.84136176, -0.94954208],\n",
       "       [-1.40530712, -1.3970056 , -1.47078879, -1.35307622, -1.51362383,\n",
       "         1.13144907, -0.76822399],\n",
       "       [ 1.35499071,  1.23557604,  1.30581256,  1.04250525,  1.67126216,\n",
       "         0.31840374,  1.16108202],\n",
       "       [ 1.28439486,  1.26673085,  0.69486908,  1.13697889,  1.13215385,\n",
       "        -1.32784508,  0.96142839],\n",
       "       [-1.22881749, -1.13997839, -1.72154918, -1.06065783, -1.50809451,\n",
       "        -1.00329889, -0.59098046],\n",
       "       [-0.80877217, -0.71938843, -1.05589434, -0.53430472, -0.97728018,\n",
       "        -0.27424584, -0.38928955],\n",
       "       [-1.09115558, -0.92968341, -1.99966524, -0.75024445, -1.34774435,\n",
       "         0.50856228, -0.49726549],\n",
       "       [-0.95349366, -0.87516249, -1.18355417, -0.65352145, -1.02704402,\n",
       "        -1.37958433, -0.49726549],\n",
       "       [ 1.24203735,  1.07201328,  1.66143638,  0.74783748,  1.40032568,\n",
       "        -0.49060997,  0.98383849],\n",
       "       [-0.66758046, -0.6492901 , -0.32640958, -0.5680453 , -0.65934451,\n",
       "        -0.22922597, -1.21642602],\n",
       "       [ 1.08319668,  0.97854884,  1.27845689,  0.74558811,  1.16809441,\n",
       "        -0.97910911,  1.01236044],\n",
       "       [ 0.76551534,  0.6124798 ,  1.67055494,  0.41493039,  1.15703578,\n",
       "        -0.50942424,  0.12614279],\n",
       "       [-0.98879159, -0.87516249, -1.46167023, -1.09889716, -0.64275657,\n",
       "        -1.48642252, -1.8398343 ],\n",
       "       [-0.99938097, -1.06209136, -0.22154615, -1.23385949, -0.90816373,\n",
       "        -1.54488115, -0.93935567],\n",
       "       [-1.45119442, -1.57614577, -0.55893285, -1.49928542, -1.2260994 ,\n",
       "         0.71148764, -0.73155291],\n",
       "       [-0.34283954, -0.32995327,  0.07024776, -0.14066457, -0.31652692,\n",
       "        -1.0684769 , -0.83545429],\n",
       "       [-0.75229548, -0.79727546,  0.0155364 , -0.86721181, -0.65934451,\n",
       "        -1.7054744 , -1.30402914],\n",
       "       [ 2.10683654,  1.91319321,  1.45170951,  1.80504245,  2.12190141,\n",
       "         0.87476865,  1.83134779],\n",
       "       [ 1.88092981,  1.80415137,  0.84076603,  1.5013772 ,  1.92837535,\n",
       "         1.46943404,  1.56038929],\n",
       "       [ 0.52901924,  0.51122666,  0.69942836,  0.15850195,  0.72021982,\n",
       "         0.33788995,  0.39913857],\n",
       "       [-1.33118147, -1.4047943 , -0.7048298 , -1.43180425, -1.30074516,\n",
       "         1.79666798, -0.76007486],\n",
       "       [-0.28283306, -0.32216457,  0.48970149, -0.23963695, -0.12023621,\n",
       "        -0.64515577, -0.78248496],\n",
       "       [-1.09468537, -0.8907399 , -2.3461705 , -0.5275566 , -1.51638849,\n",
       "         0.79547993, -0.14277843],\n",
       "       [-0.0745753 , -0.29879846,  2.00794164, -0.99542603,  0.557105  ,\n",
       "        -1.30835887, -1.57498764],\n",
       "       [ 1.49265262,  1.57049027,  0.04289208,  1.37541235,  1.30632731,\n",
       "         1.99421784,  1.28535622],\n",
       "       [ 0.9314156 ,  0.83056348,  1.26933833,  0.32270612,  1.17638838,\n",
       "         1.10994705,  0.4867417 ],\n",
       "       [-1.30647293, -1.13997839, -2.48750817, -0.82897248, -1.59656357,\n",
       "         1.6495135 , -0.29964914],\n",
       "       [-1.23940687, -1.17892191, -1.53917799, -1.15063272, -1.38644956,\n",
       "         1.25911735, -0.67858358],\n",
       "       [-1.47237318, -1.45152652, -1.74890486, -1.13038837, -1.72097318,\n",
       "         0.66378002, -0.93528111],\n",
       "       [ 1.29851403,  1.1343229 ,  1.61128431,  0.8760517 ,  1.64638024,\n",
       "         1.53662786,  0.9267946 ],\n",
       "       [-0.31107141, -0.33774198,  0.38027878, -0.47132229, -0.17552937,\n",
       "        -1.34195579, -0.8578644 ],\n",
       "       [ 0.15839101,  0.12958021,  0.67663196,  0.12026262,  0.35528496,\n",
       "        -1.57713419, -0.59098046],\n",
       "       [-1.18293018, -0.99978174, -2.3461705 , -0.64002521, -1.6076222 ,\n",
       "         0.23373951, -0.48911636],\n",
       "       [-0.13811157,  0.00496096, -0.70938908,  0.21023751, -0.41881927,\n",
       "        -1.50053322,  0.13225464],\n",
       "       [ 0.38076795,  0.23083335,  1.60216575, -0.64002521,  0.87780532,\n",
       "        -0.25408769, -0.56653308],\n",
       "       [-1.25352604, -1.20228802, -1.50726303, -1.0629072 , -1.40856682,\n",
       "         0.22433238, -0.32409652],\n",
       "       [ 0.44430422,  0.6124798 , -0.56805141,  0.25747433,  0.33869702,\n",
       "         0.38425369,  0.57230754],\n",
       "       [ 1.40087802,  1.29788567,  1.16903417,  0.9817722 ,  1.38097307,\n",
       "        -1.38764759,  1.39944401],\n",
       "       [ 2.04683007,  2.05338986,  0.22982255,  2.09521148,  1.51920597,\n",
       "         0.49512351,  2.09619444],\n",
       "       [-1.28529417, -1.35027338, -0.6820334 , -1.25185447, -1.27309858,\n",
       "         0.18200026, -0.8578644 ],\n",
       "       [-0.90054677, -1.09324618,  0.9593073 , -1.28559506, -0.61510999,\n",
       "        -0.33203253, -1.66462805],\n",
       "       [ 0.1654506 ,  0.23862205, -0.0300564 ,  0.53189774,  0.00970272,\n",
       "         0.50251483,  0.75973748],\n",
       "       [-0.61816336, -0.81285286,  1.35140536, -1.14613397, -0.17552937,\n",
       "        -0.84203369, -1.30199186],\n",
       "       [ 1.34440133,  1.24336475,  1.20550841,  0.80632116,  1.63808626,\n",
       "         1.08172564,  0.93086916],\n",
       "       [-0.71699756, -0.85179638,  0.758699  , -1.1438846 , -0.40223132,\n",
       "        -0.91527497, -1.66055349],\n",
       "       [ 1.40440781,  1.27451956,  1.34684608,  1.30343244,  1.39479636,\n",
       "        -0.05049038,  1.10811269]])"
      ]
     },
     "execution_count": 19,
     "metadata": {},
     "output_type": "execute_result"
    }
   ],
   "source": [
    "X_test"
   ]
  },
  {
   "cell_type": "markdown",
   "metadata": {},
   "source": [
    "## Building ML Model using KNN classifier."
   ]
  },
  {
   "cell_type": "code",
   "execution_count": 20,
   "metadata": {},
   "outputs": [],
   "source": [
    "from sklearn.neighbors import KNeighborsClassifier"
   ]
  },
  {
   "cell_type": "code",
   "execution_count": 21,
   "metadata": {},
   "outputs": [],
   "source": [
    "classifier = KNeighborsClassifier(n_neighbors=5)"
   ]
  },
  {
   "cell_type": "code",
   "execution_count": 22,
   "metadata": {},
   "outputs": [
    {
     "name": "stderr",
     "output_type": "stream",
     "text": [
      "C:\\Users\\hp\\anaconda3\\lib\\site-packages\\sklearn\\neighbors\\_classification.py:198: DataConversionWarning: A column-vector y was passed when a 1d array was expected. Please change the shape of y to (n_samples,), for example using ravel().\n",
      "  return self._fit(X, y)\n"
     ]
    },
    {
     "data": {
      "text/plain": [
       "KNeighborsClassifier()"
      ]
     },
     "execution_count": 22,
     "metadata": {},
     "output_type": "execute_result"
    }
   ],
   "source": [
    "classifier.fit(X_train,Y_train)"
   ]
  },
  {
   "cell_type": "code",
   "execution_count": 23,
   "metadata": {},
   "outputs": [],
   "source": [
    "Y_pred = classifier.predict(X_test)"
   ]
  },
  {
   "cell_type": "code",
   "execution_count": 24,
   "metadata": {},
   "outputs": [
    {
     "data": {
      "text/plain": [
       "array(['Kama wheat', 'Canadian wheat', 'Kama wheat', 'Canadian wheat',\n",
       "       'Canadian wheat', 'Canadian wheat', 'Rosa wheat', 'Kama wheat',\n",
       "       'Canadian wheat', 'Rosa wheat', 'Rosa wheat', 'Canadian wheat',\n",
       "       'Canadian wheat', 'Canadian wheat', 'Kama wheat', 'Rosa wheat',\n",
       "       'Kama wheat', 'Rosa wheat', 'Rosa wheat', 'Kama wheat',\n",
       "       'Kama wheat', 'Canadian wheat', 'Kama wheat', 'Kama wheat',\n",
       "       'Rosa wheat', 'Rosa wheat', 'Rosa wheat', 'Canadian wheat',\n",
       "       'Kama wheat', 'Canadian wheat', 'Kama wheat', 'Rosa wheat',\n",
       "       'Rosa wheat', 'Canadian wheat', 'Canadian wheat', 'Canadian wheat',\n",
       "       'Rosa wheat', 'Kama wheat', 'Kama wheat', 'Canadian wheat',\n",
       "       'Kama wheat', 'Kama wheat', 'Canadian wheat', 'Rosa wheat',\n",
       "       'Rosa wheat', 'Rosa wheat', 'Canadian wheat', 'Canadian wheat',\n",
       "       'Rosa wheat', 'Kama wheat', 'Rosa wheat', 'Canadian wheat',\n",
       "       'Rosa wheat'], dtype=object)"
      ]
     },
     "execution_count": 24,
     "metadata": {},
     "output_type": "execute_result"
    }
   ],
   "source": [
    "Y_pred"
   ]
  },
  {
   "cell_type": "code",
   "execution_count": 25,
   "metadata": {},
   "outputs": [
    {
     "data": {
      "text/plain": [
       "(53,)"
      ]
     },
     "execution_count": 25,
     "metadata": {},
     "output_type": "execute_result"
    }
   ],
   "source": [
    "Y_pred.shape"
   ]
  },
  {
   "cell_type": "code",
   "execution_count": 26,
   "metadata": {},
   "outputs": [],
   "source": [
    "Y_pred = Y_pred.reshape(-1,1)"
   ]
  },
  {
   "cell_type": "code",
   "execution_count": 27,
   "metadata": {},
   "outputs": [],
   "source": [
    "from sklearn.metrics import confusion_matrix,accuracy_score"
   ]
  },
  {
   "cell_type": "code",
   "execution_count": 28,
   "metadata": {},
   "outputs": [
    {
     "data": {
      "text/plain": [
       "array([[17,  2,  0],\n",
       "       [ 1, 13,  2],\n",
       "       [ 0,  1, 17]], dtype=int64)"
      ]
     },
     "execution_count": 28,
     "metadata": {},
     "output_type": "execute_result"
    }
   ],
   "source": [
    "cm = confusion_matrix(Y_pred,Y_test)\n",
    "cm"
   ]
  },
  {
   "cell_type": "code",
   "execution_count": 29,
   "metadata": {},
   "outputs": [
    {
     "name": "stdout",
     "output_type": "stream",
     "text": [
      "Accuracy Score: 0.8867924528301887\n"
     ]
    }
   ],
   "source": [
    "print(\"Accuracy Score:\",accuracy_score(Y_pred,Y_test))"
   ]
  },
  {
   "cell_type": "code",
   "execution_count": 30,
   "metadata": {},
   "outputs": [],
   "source": [
    "Y_train_pred = classifier.predict(X_train)"
   ]
  },
  {
   "cell_type": "code",
   "execution_count": 31,
   "metadata": {},
   "outputs": [
    {
     "name": "stdout",
     "output_type": "stream",
     "text": [
      "Accuracy Score for Train: 0.9554140127388535\n"
     ]
    }
   ],
   "source": [
    "print(\"Accuracy Score for Train:\",accuracy_score(Y_train_pred,Y_train))"
   ]
  },
  {
   "cell_type": "markdown",
   "metadata": {},
   "source": [
    "### Report\n",
    "\n",
    "Accuracy for Train set  94%\n",
    "<br>\n",
    "Accuracy fro Test set  88%"
   ]
  }
 ],
 "metadata": {
  "kernelspec": {
   "display_name": "Python 3",
   "language": "python",
   "name": "python3"
  },
  "language_info": {
   "codemirror_mode": {
    "name": "ipython",
    "version": 3
   },
   "file_extension": ".py",
   "mimetype": "text/x-python",
   "name": "python",
   "nbconvert_exporter": "python",
   "pygments_lexer": "ipython3",
   "version": "3.9.7"
  }
 },
 "nbformat": 4,
 "nbformat_minor": 2
}
